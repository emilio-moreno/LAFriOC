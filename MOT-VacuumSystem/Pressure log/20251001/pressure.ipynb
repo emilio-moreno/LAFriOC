{
 "cells": [
  {
   "cell_type": "code",
   "execution_count": 1,
   "id": "6bce9871-a50e-4e07-87f8-9dca71fbe5c6",
   "metadata": {},
   "outputs": [],
   "source": [
    "import pandas as pd\n",
    "import matplotlib.pyplot as plt\n",
    "from datetime import datetime, date\n",
    "import numpy as np\n",
    "from scipy.optimize import curve_fit\n",
    "\n",
    "plt.rcParams.update({\"font.family\": \"Times New Roman\", \"mathtext.fontset\": \"cm\"})"
   ]
  },
  {
   "cell_type": "code",
   "execution_count": 2,
   "id": "921d3fd9-64dc-4afd-8938-5652367a3095",
   "metadata": {},
   "outputs": [],
   "source": [
    "@np.vectorize\n",
    "def hour_difference(end, start):\n",
    "    '''In minutes.'''\n",
    "    return (datetime.combine(date.today(), end) - datetime.combine(date.today(), start)).seconds / 60"
   ]
  },
  {
   "cell_type": "code",
   "execution_count": 3,
   "id": "3d0d0f8e-7030-4cd2-8588-75db94e41767",
   "metadata": {},
   "outputs": [],
   "source": [
    "def time_to_pressure(P, A, B):\n",
    "    '''Time to reach pressure in torr. From exponential fit.'''\n",
    "    return -B**(-1) * np.log(P / A)"
   ]
  },
  {
   "cell_type": "code",
   "execution_count": 4,
   "id": "95ced142-5afa-4d48-9a56-b4f38d8af53f",
   "metadata": {},
   "outputs": [],
   "source": [
    "xls = pd.ExcelFile(\"HiCube80Classic_pressure_20251001.xlsx\")\n",
    "pressure_df = pd.read_excel(xls, \"attempt3\")"
   ]
  },
  {
   "cell_type": "code",
   "execution_count": 5,
   "id": "b667076a-2efd-436a-b29c-f45efc9f2aa6",
   "metadata": {},
   "outputs": [],
   "source": [
    "time_delta = hour_difference(pressure_df[\"time\"], pressure_df[\"time\"][0])\n",
    "torr_pressure = np.array(0.75*pressure_df[\"pressure[hPa]\"])\n",
    "\n",
    "pressure_df[\"time_delta[minutes]\"] = time_delta\n",
    "pressure_df[\"pressure[Torr]\"] = torr_pressure"
   ]
  },
  {
   "cell_type": "code",
   "execution_count": 6,
   "id": "55b50865-da2e-4a63-a631-e782b00471e5",
   "metadata": {},
   "outputs": [
    {
     "data": {
      "text/html": [
       "<div>\n",
       "<style scoped>\n",
       "    .dataframe tbody tr th:only-of-type {\n",
       "        vertical-align: middle;\n",
       "    }\n",
       "\n",
       "    .dataframe tbody tr th {\n",
       "        vertical-align: top;\n",
       "    }\n",
       "\n",
       "    .dataframe thead th {\n",
       "        text-align: right;\n",
       "    }\n",
       "</style>\n",
       "<table border=\"1\" class=\"dataframe\">\n",
       "  <thead>\n",
       "    <tr style=\"text-align: right;\">\n",
       "      <th></th>\n",
       "      <th>time</th>\n",
       "      <th>pressure[hPa]</th>\n",
       "      <th>temperatura[C]</th>\n",
       "      <th>rotor_speed[RPM]</th>\n",
       "      <th>rotor_set_speed[RPM]</th>\n",
       "      <th>note</th>\n",
       "      <th>time_delta[minutes]</th>\n",
       "      <th>pressure[Torr]</th>\n",
       "    </tr>\n",
       "  </thead>\n",
       "  <tbody>\n",
       "    <tr>\n",
       "      <th>0</th>\n",
       "      <td>12:38:00</td>\n",
       "      <td>0.000046</td>\n",
       "      <td>37.0</td>\n",
       "      <td>9000.0</td>\n",
       "      <td>NaN</td>\n",
       "      <td>Attempt 3. Valve completely opened.</td>\n",
       "      <td>0.0</td>\n",
       "      <td>0.000034</td>\n",
       "    </tr>\n",
       "    <tr>\n",
       "      <th>1</th>\n",
       "      <td>12:43:00</td>\n",
       "      <td>0.000014</td>\n",
       "      <td>NaN</td>\n",
       "      <td>NaN</td>\n",
       "      <td>NaN</td>\n",
       "      <td>NaN</td>\n",
       "      <td>5.0</td>\n",
       "      <td>0.000010</td>\n",
       "    </tr>\n",
       "    <tr>\n",
       "      <th>2</th>\n",
       "      <td>12:45:00</td>\n",
       "      <td>0.000010</td>\n",
       "      <td>NaN</td>\n",
       "      <td>NaN</td>\n",
       "      <td>NaN</td>\n",
       "      <td>NaN</td>\n",
       "      <td>7.0</td>\n",
       "      <td>0.000008</td>\n",
       "    </tr>\n",
       "    <tr>\n",
       "      <th>3</th>\n",
       "      <td>12:48:00</td>\n",
       "      <td>0.000009</td>\n",
       "      <td>NaN</td>\n",
       "      <td>NaN</td>\n",
       "      <td>NaN</td>\n",
       "      <td>NaN</td>\n",
       "      <td>10.0</td>\n",
       "      <td>0.000006</td>\n",
       "    </tr>\n",
       "    <tr>\n",
       "      <th>4</th>\n",
       "      <td>12:51:00</td>\n",
       "      <td>0.000007</td>\n",
       "      <td>34.0</td>\n",
       "      <td>NaN</td>\n",
       "      <td>NaN</td>\n",
       "      <td>NaN</td>\n",
       "      <td>13.0</td>\n",
       "      <td>0.000006</td>\n",
       "    </tr>\n",
       "  </tbody>\n",
       "</table>\n",
       "</div>"
      ],
      "text/plain": [
       "       time  pressure[hPa]  temperatura[C]  rotor_speed[RPM]  \\\n",
       "0  12:38:00       0.000046            37.0            9000.0   \n",
       "1  12:43:00       0.000014             NaN               NaN   \n",
       "2  12:45:00       0.000010             NaN               NaN   \n",
       "3  12:48:00       0.000009             NaN               NaN   \n",
       "4  12:51:00       0.000007            34.0               NaN   \n",
       "\n",
       "   rotor_set_speed[RPM]                                 note  \\\n",
       "0                   NaN  Attempt 3. Valve completely opened.   \n",
       "1                   NaN                                  NaN   \n",
       "2                   NaN                                  NaN   \n",
       "3                   NaN                                  NaN   \n",
       "4                   NaN                                  NaN   \n",
       "\n",
       "   time_delta[minutes]  pressure[Torr]  \n",
       "0                  0.0        0.000034  \n",
       "1                  5.0        0.000010  \n",
       "2                  7.0        0.000008  \n",
       "3                 10.0        0.000006  \n",
       "4                 13.0        0.000006  "
      ]
     },
     "execution_count": 6,
     "metadata": {},
     "output_type": "execute_result"
    }
   ],
   "source": [
    "pressure_df.tail(10)"
   ]
  },
  {
   "cell_type": "code",
   "execution_count": 7,
   "id": "69f0f753-b8f4-416b-8e97-c1ef6c5698a0",
   "metadata": {},
   "outputs": [
    {
     "name": "stdout",
     "output_type": "stream",
     "text": [
      "1.5489036320442885e-06 0.04951206624770846\n"
     ]
    }
   ],
   "source": [
    "# Curve fit\n",
    "min_index, max_index = 0, 3\n",
    "\n",
    "pressure_fit = lambda t, A, B: A * np.exp(-B * t)\n",
    "popt, pcov = curve_fit(pressure_fit, time_delta[min_index:max_index], torr_pressure[min_index:max_index])\n",
    "\n",
    "print(100*pcov[0, 0]/popt[0], 100*pcov[1, 1]/popt[1])"
   ]
  },
  {
   "cell_type": "code",
   "execution_count": 8,
   "id": "a2db6cde-0e06-4225-9013-58280318902b",
   "metadata": {},
   "outputs": [
    {
     "ename": "KeyError",
     "evalue": "'note'",
     "output_type": "error",
     "traceback": [
      "\u001b[1;31m---------------------------------------------------------------------------\u001b[0m",
      "\u001b[1;31mKeyError\u001b[0m                                  Traceback (most recent call last)",
      "File \u001b[1;32mC:\\ProgramData\\anaconda3\\Lib\\site-packages\\pandas\\core\\indexes\\base.py:3805\u001b[0m, in \u001b[0;36mIndex.get_loc\u001b[1;34m(self, key)\u001b[0m\n\u001b[0;32m   3804\u001b[0m \u001b[38;5;28;01mtry\u001b[39;00m:\n\u001b[1;32m-> 3805\u001b[0m     \u001b[38;5;28;01mreturn\u001b[39;00m \u001b[38;5;28mself\u001b[39m\u001b[38;5;241m.\u001b[39m_engine\u001b[38;5;241m.\u001b[39mget_loc(casted_key)\n\u001b[0;32m   3806\u001b[0m \u001b[38;5;28;01mexcept\u001b[39;00m \u001b[38;5;167;01mKeyError\u001b[39;00m \u001b[38;5;28;01mas\u001b[39;00m err:\n",
      "File \u001b[1;32mindex.pyx:167\u001b[0m, in \u001b[0;36mpandas._libs.index.IndexEngine.get_loc\u001b[1;34m()\u001b[0m\n",
      "File \u001b[1;32mindex.pyx:196\u001b[0m, in \u001b[0;36mpandas._libs.index.IndexEngine.get_loc\u001b[1;34m()\u001b[0m\n",
      "File \u001b[1;32mpandas\\\\_libs\\\\hashtable_class_helper.pxi:7081\u001b[0m, in \u001b[0;36mpandas._libs.hashtable.PyObjectHashTable.get_item\u001b[1;34m()\u001b[0m\n",
      "File \u001b[1;32mpandas\\\\_libs\\\\hashtable_class_helper.pxi:7089\u001b[0m, in \u001b[0;36mpandas._libs.hashtable.PyObjectHashTable.get_item\u001b[1;34m()\u001b[0m\n",
      "\u001b[1;31mKeyError\u001b[0m: 'note'",
      "\nThe above exception was the direct cause of the following exception:\n",
      "\u001b[1;31mKeyError\u001b[0m                                  Traceback (most recent call last)",
      "Cell \u001b[1;32mIn[8], line 2\u001b[0m\n\u001b[0;32m      1\u001b[0m fig, ax \u001b[38;5;241m=\u001b[39m plt\u001b[38;5;241m.\u001b[39msubplots()\n\u001b[1;32m----> 2\u001b[0m note \u001b[38;5;241m=\u001b[39m pressure_df[\u001b[38;5;124m\"\u001b[39m\u001b[38;5;124mnote\u001b[39m\u001b[38;5;124m\"\u001b[39m][\u001b[38;5;241m0\u001b[39m]\n\u001b[0;32m      3\u001b[0m plt\u001b[38;5;241m.\u001b[39mfigtext(\u001b[38;5;241m0.5\u001b[39m, \u001b[38;5;241m-\u001b[39m\u001b[38;5;241m0.05\u001b[39m, \u001b[38;5;124mf\u001b[39m\u001b[38;5;124m\"\u001b[39m\u001b[38;5;132;01m{\u001b[39;00mnote\u001b[38;5;132;01m}\u001b[39;00m\u001b[38;5;124m\"\u001b[39m, wrap\u001b[38;5;241m=\u001b[39m\u001b[38;5;28;01mTrue\u001b[39;00m, horizontalalignment\u001b[38;5;241m=\u001b[39m\u001b[38;5;124m'\u001b[39m\u001b[38;5;124mcenter\u001b[39m\u001b[38;5;124m'\u001b[39m, fontsize\u001b[38;5;241m=\u001b[39m\u001b[38;5;241m9\u001b[39m)\n\u001b[0;32m      5\u001b[0m \u001b[38;5;66;03m# Data points\u001b[39;00m\n",
      "File \u001b[1;32mC:\\ProgramData\\anaconda3\\Lib\\site-packages\\pandas\\core\\frame.py:4102\u001b[0m, in \u001b[0;36mDataFrame.__getitem__\u001b[1;34m(self, key)\u001b[0m\n\u001b[0;32m   4100\u001b[0m \u001b[38;5;28;01mif\u001b[39;00m \u001b[38;5;28mself\u001b[39m\u001b[38;5;241m.\u001b[39mcolumns\u001b[38;5;241m.\u001b[39mnlevels \u001b[38;5;241m>\u001b[39m \u001b[38;5;241m1\u001b[39m:\n\u001b[0;32m   4101\u001b[0m     \u001b[38;5;28;01mreturn\u001b[39;00m \u001b[38;5;28mself\u001b[39m\u001b[38;5;241m.\u001b[39m_getitem_multilevel(key)\n\u001b[1;32m-> 4102\u001b[0m indexer \u001b[38;5;241m=\u001b[39m \u001b[38;5;28mself\u001b[39m\u001b[38;5;241m.\u001b[39mcolumns\u001b[38;5;241m.\u001b[39mget_loc(key)\n\u001b[0;32m   4103\u001b[0m \u001b[38;5;28;01mif\u001b[39;00m is_integer(indexer):\n\u001b[0;32m   4104\u001b[0m     indexer \u001b[38;5;241m=\u001b[39m [indexer]\n",
      "File \u001b[1;32mC:\\ProgramData\\anaconda3\\Lib\\site-packages\\pandas\\core\\indexes\\base.py:3812\u001b[0m, in \u001b[0;36mIndex.get_loc\u001b[1;34m(self, key)\u001b[0m\n\u001b[0;32m   3807\u001b[0m     \u001b[38;5;28;01mif\u001b[39;00m \u001b[38;5;28misinstance\u001b[39m(casted_key, \u001b[38;5;28mslice\u001b[39m) \u001b[38;5;129;01mor\u001b[39;00m (\n\u001b[0;32m   3808\u001b[0m         \u001b[38;5;28misinstance\u001b[39m(casted_key, abc\u001b[38;5;241m.\u001b[39mIterable)\n\u001b[0;32m   3809\u001b[0m         \u001b[38;5;129;01mand\u001b[39;00m \u001b[38;5;28many\u001b[39m(\u001b[38;5;28misinstance\u001b[39m(x, \u001b[38;5;28mslice\u001b[39m) \u001b[38;5;28;01mfor\u001b[39;00m x \u001b[38;5;129;01min\u001b[39;00m casted_key)\n\u001b[0;32m   3810\u001b[0m     ):\n\u001b[0;32m   3811\u001b[0m         \u001b[38;5;28;01mraise\u001b[39;00m InvalidIndexError(key)\n\u001b[1;32m-> 3812\u001b[0m     \u001b[38;5;28;01mraise\u001b[39;00m \u001b[38;5;167;01mKeyError\u001b[39;00m(key) \u001b[38;5;28;01mfrom\u001b[39;00m\u001b[38;5;250m \u001b[39m\u001b[38;5;21;01merr\u001b[39;00m\n\u001b[0;32m   3813\u001b[0m \u001b[38;5;28;01mexcept\u001b[39;00m \u001b[38;5;167;01mTypeError\u001b[39;00m:\n\u001b[0;32m   3814\u001b[0m     \u001b[38;5;66;03m# If we have a listlike key, _check_indexing_error will raise\u001b[39;00m\n\u001b[0;32m   3815\u001b[0m     \u001b[38;5;66;03m#  InvalidIndexError. Otherwise we fall through and re-raise\u001b[39;00m\n\u001b[0;32m   3816\u001b[0m     \u001b[38;5;66;03m#  the TypeError.\u001b[39;00m\n\u001b[0;32m   3817\u001b[0m     \u001b[38;5;28mself\u001b[39m\u001b[38;5;241m.\u001b[39m_check_indexing_error(key)\n",
      "\u001b[1;31mKeyError\u001b[0m: 'note'"
     ]
    },
    {
     "data": {
      "image/png": "[encoded data removed]",
      "text/plain": [
       "<Figure size 640x480 with 1 Axes>"
      ]
     },
     "metadata": {},
     "output_type": "display_data"
    }
   ],
   "source": [
    "fig, ax = plt.subplots()\n",
    "note = pressure_df[\"note\"][0]\n",
    "plt.figtext(0.5, -0.05, f\"{note}\", wrap=True, horizontalalignment='center', fontsize=9)\n",
    "\n",
    "# Data points\n",
    "ax.set_title(\"Pressure vs time with MOT's valve closed\\n (HiCube 80 Classic)\")\n",
    "ax.set(xlabel=\"Time from pump start [minutes]\", ylabel=\"Pressure [Torr]\")\n",
    "ax.scatter(time_delta[min_index:], pressure_df[\"pressure[Torr]\"][min_index:],\n",
    "           c=\"#1e588d\", s=5, label=\"Pressure data points\")\n",
    "\n",
    "# Fit\n",
    "time = np.linspace(2, time_delta[max_index], 1000)\n",
    "ax.plot(time, pressure_fit(time, *popt), c=\"#f17979\",\n",
    "        label=f\"$A e^{{-Bt}}$\\n\" \\\n",
    "              f\"$A = {popt[0]:.2E} \\pm {pcov[0, 0]:.1E}\\,\\mathrm{{Torr}}$\" \\\n",
    "              f\"\\n $B ={popt[1]:.2E} \\pm {pcov[1, 1]:.2E}\\,\\mathrm{{minute^{{-1}}}}$\")\n",
    "\n",
    "ax.grid(True, ls=\"--\", c=\"#aaa\")\n",
    "plt.legend()\n",
    "\n",
    "plt.savefig(\"HiCube80Classic_pressure_20251001.png\")"
   ]
  },
  {
   "cell_type": "code",
   "execution_count": 362,
   "id": "199a50c8-7961-4c60-a53b-77adc296c450",
   "metadata": {},
   "outputs": [
    {
     "data": {
      "text/plain": [
       "100.2196888639994"
      ]
     },
     "execution_count": 362,
     "metadata": {},
     "output_type": "execute_result"
    }
   ],
   "source": [
    "time_to_pressure(3E-7, *popt)"
   ]
  },
  {
   "cell_type": "code",
   "execution_count": null,
   "id": "97f7d1ba-30db-49bd-9c35-958faae505eb",
   "metadata": {},
   "outputs": [],
   "source": []
  }
 ],
 "metadata": {
  "kernelspec": {
   "display_name": "Python 3 (ipykernel)",
   "language": "python",
   "name": "python3"
  },
  "language_info": {
   "codemirror_mode": {
    "name": "ipython",
    "version": 3
   },
   "file_extension": ".py",
   "mimetype": "text/x-python",
   "name": "python",
   "nbconvert_exporter": "python",
   "pygments_lexer": "ipython3",
   "version": "3.11.5"
  }
 },
 "nbformat": 4,
 "nbformat_minor": 5
}
